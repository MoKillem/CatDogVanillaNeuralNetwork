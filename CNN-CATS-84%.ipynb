{
  "nbformat": 4,
  "nbformat_minor": 0,
  "metadata": {
    "accelerator": "GPU",
    "colab": {
      "name": "Untitled25.ipynb",
      "provenance": [],
      "collapsed_sections": [],
      "machine_shape": "hm"
    },
    "kernelspec": {
      "display_name": "Python 3",
      "name": "python3"
    }
  },
  "cells": [
    {
      "cell_type": "markdown",
      "metadata": {
        "id": "u4c0N8752ba2"
      },
      "source": [
        "# Basic Convolutional Neural Network capable of testing"
      ]
    },
    {
      "cell_type": "code",
      "metadata": {
        "id": "PNP64JNeSG55"
      },
      "source": [
        "import numpy as np\n",
        "import tensorflow_datasets as tfds\n",
        "import tensorflow as tf\n",
        "from tensorflow.keras import layers\n",
        "#Preprocess cats_vs_dogs images\n",
        "totalSet = tfds.load('cats_vs_dogs', split='train', shuffle_files=True)\n",
        "#final image size\n",
        "IMG_SIZE = 64\n",
        "#resize and rescale images function\n",
        "resize_and_rescale =  tf.keras.Sequential([\n",
        "  layers.experimental.preprocessing.Resizing(IMG_SIZE, IMG_SIZE),\n",
        "  layers.experimental.preprocessing.Rescaling(1./127.5, offset=-1)\n",
        "])\n",
        "#loop through\n",
        "trainX = []\n",
        "trainY = []\n",
        "i = 0\n",
        "for example in totalSet:  # example is `{'image': tf.Tensor, 'label': tf.Tensor}`\n",
        "  #resize images\n",
        "  i += 1\n",
        "  trainX.append(np.array(resize_and_rescale(example['image'])))\n",
        "  trainY.append(np.array(example['label']))\n"
      ],
      "execution_count": 78,
      "outputs": []
    },
    {
      "cell_type": "code",
      "metadata": {
        "id": "pjQjHnZ4S8hg",
        "colab": {
          "base_uri": "https://localhost:8080/"
        },
        "outputId": "c4510abd-9f45-4b47-ae38-42335dc105e8"
      },
      "source": [
        "#set as arrays\n",
        "trainX = np.asarray(trainX)\n",
        "trainY = np.asarray(trainY)\n",
        "#reshape the array\n",
        "print(trainX.shape,trainY.shape)"
      ],
      "execution_count": 80,
      "outputs": [
        {
          "output_type": "stream",
          "text": [
            "(23262, 64, 64, 3) (23262,)\n"
          ],
          "name": "stdout"
        }
      ]
    },
    {
      "cell_type": "code",
      "metadata": {
        "id": "Sk4o4fyQjW5B",
        "colab": {
          "base_uri": "https://localhost:8080/"
        },
        "outputId": "8da44437-32d9-4c64-c387-9774979d33bf"
      },
      "source": [
        "pip install git+https://www.github.com/keras-team/keras-contrib.git\n"
      ],
      "execution_count": 83,
      "outputs": [
        {
          "output_type": "stream",
          "text": [
            "Collecting git+https://www.github.com/keras-team/keras-contrib.git\n",
            "  Cloning https://www.github.com/keras-team/keras-contrib.git to /tmp/pip-req-build-q3cp772v\n",
            "  Running command git clone -q https://www.github.com/keras-team/keras-contrib.git /tmp/pip-req-build-q3cp772v\n",
            "Requirement already satisfied (use --upgrade to upgrade): keras-contrib==2.0.8 from git+https://www.github.com/keras-team/keras-contrib.git in /usr/local/lib/python3.6/dist-packages\n",
            "Requirement already satisfied: keras in /usr/local/lib/python3.6/dist-packages (from keras-contrib==2.0.8) (2.4.3)\n",
            "Requirement already satisfied: h5py in /usr/local/lib/python3.6/dist-packages (from keras->keras-contrib==2.0.8) (2.10.0)\n",
            "Requirement already satisfied: numpy>=1.9.1 in /usr/local/lib/python3.6/dist-packages (from keras->keras-contrib==2.0.8) (1.18.5)\n",
            "Requirement already satisfied: pyyaml in /usr/local/lib/python3.6/dist-packages (from keras->keras-contrib==2.0.8) (3.13)\n",
            "Requirement already satisfied: scipy>=0.14 in /usr/local/lib/python3.6/dist-packages (from keras->keras-contrib==2.0.8) (1.4.1)\n",
            "Requirement already satisfied: six in /usr/local/lib/python3.6/dist-packages (from h5py->keras->keras-contrib==2.0.8) (1.15.0)\n",
            "Building wheels for collected packages: keras-contrib\n",
            "  Building wheel for keras-contrib (setup.py) ... \u001b[?25l\u001b[?25hdone\n",
            "  Created wheel for keras-contrib: filename=keras_contrib-2.0.8-cp36-none-any.whl size=101066 sha256=13c95fd5830c0606cab9997c6acaa27d82e790f82d0199787da3b63ac41d36d6\n",
            "  Stored in directory: /tmp/pip-ephem-wheel-cache-_f3m1oxa/wheels/11/27/c8/4ed56de7b55f4f61244e2dc6ef3cdbaff2692527a2ce6502ba\n",
            "Successfully built keras-contrib\n"
          ],
          "name": "stdout"
        }
      ]
    },
    {
      "cell_type": "code",
      "metadata": {
        "id": "xJ8KMV0hUHKM",
        "colab": {
          "base_uri": "https://localhost:8080/"
        },
        "outputId": "bdc55851-ddd7-4170-b38e-063302663902"
      },
      "source": [
        "#impliment and develop Model\n",
        "from keras import models\n",
        "from keras import layers\n",
        "from keras import regularizers\n",
        "\n",
        "#sequential convolutional neural network model\n",
        "network = models.Sequential()\n",
        "network.add(layers.Conv2D(128,(3,3),input_shape=(64,64,3)))\n",
        "network.add(layers.LeakyReLU())\n",
        "network.add(layers.MaxPooling2D(pool_size=(2,2)))\n",
        "network.add(layers.Conv2D(64,(3,3)))\n",
        "network.add(layers.LeakyReLU())\n",
        "network.add(layers.MaxPooling2D(pool_size=(2,2)))\n",
        "network.add(layers.Conv2D(32,(3,3)))\n",
        "network.add(layers.LeakyReLU())\n",
        "network.add(layers.MaxPooling2D(pool_size=(2,2)))\n",
        "network.add(layers.Flatten())\n",
        "network.add(layers.Dense(128,  kernel_regularizer=regularizers.l2(0.001)))\n",
        "network.add(layers.LeakyReLU())\n",
        "network.add(layers.Dense(1,activation='sigmoid'))\n",
        "\n",
        "network.compile(optimizer='rmsprop',loss='binary_crossentropy',metrics=['accuracy'])\n",
        "\n",
        "#split data into validation and training\n",
        "val_x = trainX[:1000]\n",
        "partial_x = trainX[1000:]\n",
        "val_y = trainY[:1000]\n",
        "partial_y = trainY[1000:]\n",
        "\n",
        "#fit\n",
        "history = network.fit(partial_x,partial_y,epochs=100,batch_size=128,validation_data=(val_x,val_y))\n"
      ],
      "execution_count": 84,
      "outputs": [
        {
          "output_type": "stream",
          "text": [
            "Epoch 1/100\n",
            "174/174 [==============================] - 5s 26ms/step - loss: 0.7220 - accuracy: 0.6597 - val_loss: 0.5686 - val_accuracy: 0.7600\n",
            "Epoch 2/100\n",
            "174/174 [==============================] - 4s 26ms/step - loss: 0.5237 - accuracy: 0.7645 - val_loss: 0.4907 - val_accuracy: 0.7960\n",
            "Epoch 3/100\n",
            "174/174 [==============================] - 4s 25ms/step - loss: 0.4621 - accuracy: 0.7991 - val_loss: 0.4627 - val_accuracy: 0.8050\n",
            "Epoch 4/100\n",
            "174/174 [==============================] - 4s 25ms/step - loss: 0.4192 - accuracy: 0.8217 - val_loss: 0.4461 - val_accuracy: 0.8030\n",
            "Epoch 5/100\n",
            "174/174 [==============================] - 4s 25ms/step - loss: 0.3842 - accuracy: 0.8384 - val_loss: 0.4557 - val_accuracy: 0.8070\n",
            "Epoch 6/100\n",
            "174/174 [==============================] - 4s 25ms/step - loss: 0.3556 - accuracy: 0.8550 - val_loss: 0.4243 - val_accuracy: 0.8150\n",
            "Epoch 7/100\n",
            "174/174 [==============================] - 4s 25ms/step - loss: 0.3271 - accuracy: 0.8691 - val_loss: 0.4525 - val_accuracy: 0.8250\n",
            "Epoch 8/100\n",
            "174/174 [==============================] - 4s 25ms/step - loss: 0.2986 - accuracy: 0.8875 - val_loss: 0.4446 - val_accuracy: 0.8220\n",
            "Epoch 9/100\n",
            "174/174 [==============================] - 4s 25ms/step - loss: 0.2750 - accuracy: 0.8960 - val_loss: 0.4717 - val_accuracy: 0.8240\n",
            "Epoch 10/100\n",
            "174/174 [==============================] - 4s 25ms/step - loss: 0.2525 - accuracy: 0.9111 - val_loss: 0.5383 - val_accuracy: 0.8210\n",
            "Epoch 11/100\n",
            "174/174 [==============================] - 4s 26ms/step - loss: 0.2308 - accuracy: 0.9184 - val_loss: 0.4976 - val_accuracy: 0.8290\n",
            "Epoch 12/100\n",
            "174/174 [==============================] - 4s 26ms/step - loss: 0.2150 - accuracy: 0.9253 - val_loss: 0.5679 - val_accuracy: 0.8220\n",
            "Epoch 13/100\n",
            "174/174 [==============================] - 4s 26ms/step - loss: 0.1957 - accuracy: 0.9390 - val_loss: 0.5727 - val_accuracy: 0.8230\n",
            "Epoch 14/100\n",
            "174/174 [==============================] - 4s 25ms/step - loss: 0.1785 - accuracy: 0.9434 - val_loss: 0.6253 - val_accuracy: 0.8280\n",
            "Epoch 15/100\n",
            "174/174 [==============================] - 4s 25ms/step - loss: 0.1622 - accuracy: 0.9510 - val_loss: 0.6340 - val_accuracy: 0.8210\n",
            "Epoch 16/100\n",
            "174/174 [==============================] - 4s 25ms/step - loss: 0.1492 - accuracy: 0.9559 - val_loss: 0.6384 - val_accuracy: 0.8380\n",
            "Epoch 17/100\n",
            "174/174 [==============================] - 4s 25ms/step - loss: 0.1415 - accuracy: 0.9606 - val_loss: 0.6923 - val_accuracy: 0.8250\n",
            "Epoch 18/100\n",
            "174/174 [==============================] - 4s 25ms/step - loss: 0.1321 - accuracy: 0.9651 - val_loss: 0.7596 - val_accuracy: 0.8280\n",
            "Epoch 19/100\n",
            "174/174 [==============================] - 4s 25ms/step - loss: 0.1258 - accuracy: 0.9682 - val_loss: 0.8000 - val_accuracy: 0.8220\n",
            "Epoch 20/100\n",
            "174/174 [==============================] - 4s 25ms/step - loss: 0.1167 - accuracy: 0.9712 - val_loss: 0.7537 - val_accuracy: 0.8350\n",
            "Epoch 21/100\n",
            "174/174 [==============================] - 4s 25ms/step - loss: 0.1109 - accuracy: 0.9731 - val_loss: 0.8194 - val_accuracy: 0.8170\n",
            "Epoch 22/100\n",
            "174/174 [==============================] - 4s 25ms/step - loss: 0.1069 - accuracy: 0.9752 - val_loss: 0.8632 - val_accuracy: 0.8230\n",
            "Epoch 23/100\n",
            "174/174 [==============================] - 4s 25ms/step - loss: 0.1015 - accuracy: 0.9766 - val_loss: 0.8802 - val_accuracy: 0.8350\n",
            "Epoch 24/100\n",
            "174/174 [==============================] - 4s 25ms/step - loss: 0.0972 - accuracy: 0.9772 - val_loss: 0.8132 - val_accuracy: 0.8280\n",
            "Epoch 25/100\n",
            "174/174 [==============================] - 4s 25ms/step - loss: 0.0919 - accuracy: 0.9796 - val_loss: 0.9209 - val_accuracy: 0.8200\n",
            "Epoch 26/100\n",
            "174/174 [==============================] - 4s 25ms/step - loss: 0.0913 - accuracy: 0.9797 - val_loss: 0.8940 - val_accuracy: 0.8300\n",
            "Epoch 27/100\n",
            "174/174 [==============================] - 4s 25ms/step - loss: 0.0865 - accuracy: 0.9812 - val_loss: 0.8768 - val_accuracy: 0.8140\n",
            "Epoch 28/100\n",
            "174/174 [==============================] - 4s 25ms/step - loss: 0.0843 - accuracy: 0.9819 - val_loss: 0.9378 - val_accuracy: 0.8290\n",
            "Epoch 29/100\n",
            "174/174 [==============================] - 4s 25ms/step - loss: 0.0826 - accuracy: 0.9824 - val_loss: 1.0177 - val_accuracy: 0.8350\n",
            "Epoch 30/100\n",
            "174/174 [==============================] - 4s 25ms/step - loss: 0.0802 - accuracy: 0.9838 - val_loss: 1.1419 - val_accuracy: 0.8110\n",
            "Epoch 31/100\n",
            "174/174 [==============================] - 4s 25ms/step - loss: 0.0787 - accuracy: 0.9843 - val_loss: 0.9929 - val_accuracy: 0.8150\n",
            "Epoch 32/100\n",
            "174/174 [==============================] - 4s 25ms/step - loss: 0.0751 - accuracy: 0.9844 - val_loss: 1.1161 - val_accuracy: 0.8200\n",
            "Epoch 33/100\n",
            "174/174 [==============================] - 4s 25ms/step - loss: 0.0746 - accuracy: 0.9844 - val_loss: 0.9537 - val_accuracy: 0.8420\n",
            "Epoch 34/100\n",
            "174/174 [==============================] - 4s 25ms/step - loss: 0.0728 - accuracy: 0.9846 - val_loss: 0.9275 - val_accuracy: 0.8380\n",
            "Epoch 35/100\n",
            "174/174 [==============================] - 4s 25ms/step - loss: 0.0707 - accuracy: 0.9858 - val_loss: 1.0333 - val_accuracy: 0.8160\n",
            "Epoch 36/100\n",
            "174/174 [==============================] - 4s 25ms/step - loss: 0.0677 - accuracy: 0.9862 - val_loss: 1.0446 - val_accuracy: 0.8250\n",
            "Epoch 37/100\n",
            "174/174 [==============================] - 4s 25ms/step - loss: 0.0697 - accuracy: 0.9865 - val_loss: 1.0505 - val_accuracy: 0.8160\n",
            "Epoch 38/100\n",
            "174/174 [==============================] - 4s 25ms/step - loss: 0.0664 - accuracy: 0.9860 - val_loss: 1.1270 - val_accuracy: 0.8170\n",
            "Epoch 39/100\n",
            "174/174 [==============================] - 4s 25ms/step - loss: 0.0671 - accuracy: 0.9867 - val_loss: 1.0778 - val_accuracy: 0.8260\n",
            "Epoch 40/100\n",
            "174/174 [==============================] - 4s 25ms/step - loss: 0.0650 - accuracy: 0.9857 - val_loss: 1.1472 - val_accuracy: 0.8260\n",
            "Epoch 41/100\n",
            "174/174 [==============================] - 4s 25ms/step - loss: 0.0655 - accuracy: 0.9876 - val_loss: 1.1980 - val_accuracy: 0.8300\n",
            "Epoch 42/100\n",
            "174/174 [==============================] - 4s 25ms/step - loss: 0.0591 - accuracy: 0.9889 - val_loss: 1.2200 - val_accuracy: 0.8250\n",
            "Epoch 43/100\n",
            "174/174 [==============================] - 4s 25ms/step - loss: 0.0573 - accuracy: 0.9897 - val_loss: 1.2220 - val_accuracy: 0.8210\n",
            "Epoch 44/100\n",
            "174/174 [==============================] - 4s 25ms/step - loss: 0.0608 - accuracy: 0.9871 - val_loss: 1.2998 - val_accuracy: 0.8160\n",
            "Epoch 45/100\n",
            "174/174 [==============================] - 4s 25ms/step - loss: 0.0586 - accuracy: 0.9885 - val_loss: 1.1521 - val_accuracy: 0.8220\n",
            "Epoch 46/100\n",
            "174/174 [==============================] - 4s 25ms/step - loss: 0.0548 - accuracy: 0.9897 - val_loss: 1.1813 - val_accuracy: 0.8210\n",
            "Epoch 47/100\n",
            "174/174 [==============================] - 4s 25ms/step - loss: 0.0558 - accuracy: 0.9892 - val_loss: 1.1383 - val_accuracy: 0.8360\n",
            "Epoch 48/100\n",
            "174/174 [==============================] - 4s 25ms/step - loss: 0.0529 - accuracy: 0.9907 - val_loss: 1.1961 - val_accuracy: 0.8310\n",
            "Epoch 49/100\n",
            "174/174 [==============================] - 4s 25ms/step - loss: 0.0539 - accuracy: 0.9895 - val_loss: 1.0687 - val_accuracy: 0.8270\n",
            "Epoch 50/100\n",
            "174/174 [==============================] - 4s 25ms/step - loss: 0.0491 - accuracy: 0.9911 - val_loss: 1.2094 - val_accuracy: 0.8140\n",
            "Epoch 51/100\n",
            "174/174 [==============================] - 4s 25ms/step - loss: 0.0498 - accuracy: 0.9914 - val_loss: 1.3136 - val_accuracy: 0.8220\n",
            "Epoch 52/100\n",
            "174/174 [==============================] - 4s 25ms/step - loss: 0.0495 - accuracy: 0.9907 - val_loss: 1.3386 - val_accuracy: 0.8240\n",
            "Epoch 53/100\n",
            "174/174 [==============================] - 4s 25ms/step - loss: 0.0506 - accuracy: 0.9908 - val_loss: 1.2014 - val_accuracy: 0.8190\n",
            "Epoch 54/100\n",
            "174/174 [==============================] - 4s 25ms/step - loss: 0.0484 - accuracy: 0.9911 - val_loss: 1.2718 - val_accuracy: 0.8240\n",
            "Epoch 55/100\n",
            "174/174 [==============================] - 4s 25ms/step - loss: 0.0466 - accuracy: 0.9919 - val_loss: 1.3496 - val_accuracy: 0.8240\n",
            "Epoch 56/100\n",
            "174/174 [==============================] - 4s 25ms/step - loss: 0.0462 - accuracy: 0.9918 - val_loss: 1.3492 - val_accuracy: 0.8300\n",
            "Epoch 57/100\n",
            "174/174 [==============================] - 4s 25ms/step - loss: 0.0469 - accuracy: 0.9916 - val_loss: 1.2655 - val_accuracy: 0.8250\n",
            "Epoch 58/100\n",
            "174/174 [==============================] - 4s 25ms/step - loss: 0.0443 - accuracy: 0.9920 - val_loss: 1.3782 - val_accuracy: 0.8010\n",
            "Epoch 59/100\n",
            "174/174 [==============================] - 4s 25ms/step - loss: 0.0474 - accuracy: 0.9906 - val_loss: 1.3198 - val_accuracy: 0.8210\n",
            "Epoch 60/100\n",
            "174/174 [==============================] - 4s 25ms/step - loss: 0.0436 - accuracy: 0.9923 - val_loss: 1.2947 - val_accuracy: 0.8180\n",
            "Epoch 61/100\n",
            "174/174 [==============================] - 4s 25ms/step - loss: 0.0465 - accuracy: 0.9918 - val_loss: 1.3753 - val_accuracy: 0.8280\n",
            "Epoch 62/100\n",
            "174/174 [==============================] - 4s 25ms/step - loss: 0.0467 - accuracy: 0.9919 - val_loss: 1.4627 - val_accuracy: 0.8210\n",
            "Epoch 63/100\n",
            "174/174 [==============================] - 4s 25ms/step - loss: 0.0457 - accuracy: 0.9908 - val_loss: 1.5132 - val_accuracy: 0.8140\n",
            "Epoch 64/100\n",
            "174/174 [==============================] - 4s 25ms/step - loss: 0.0437 - accuracy: 0.9929 - val_loss: 1.2766 - val_accuracy: 0.8020\n",
            "Epoch 65/100\n",
            "174/174 [==============================] - 4s 25ms/step - loss: 0.0450 - accuracy: 0.9917 - val_loss: 1.4055 - val_accuracy: 0.8270\n",
            "Epoch 66/100\n",
            "174/174 [==============================] - 4s 25ms/step - loss: 0.0412 - accuracy: 0.9932 - val_loss: 1.4995 - val_accuracy: 0.8280\n",
            "Epoch 67/100\n",
            "174/174 [==============================] - 4s 25ms/step - loss: 0.0396 - accuracy: 0.9933 - val_loss: 1.5079 - val_accuracy: 0.8160\n",
            "Epoch 68/100\n",
            "174/174 [==============================] - 4s 25ms/step - loss: 0.0416 - accuracy: 0.9928 - val_loss: 1.4397 - val_accuracy: 0.8270\n",
            "Epoch 69/100\n",
            "174/174 [==============================] - 4s 25ms/step - loss: 0.0416 - accuracy: 0.9924 - val_loss: 1.4197 - val_accuracy: 0.8210\n",
            "Epoch 70/100\n",
            "174/174 [==============================] - 4s 25ms/step - loss: 0.0431 - accuracy: 0.9913 - val_loss: 1.4975 - val_accuracy: 0.8250\n",
            "Epoch 71/100\n",
            "174/174 [==============================] - 4s 25ms/step - loss: 0.0383 - accuracy: 0.9938 - val_loss: 1.6451 - val_accuracy: 0.8180\n",
            "Epoch 72/100\n",
            "174/174 [==============================] - 4s 25ms/step - loss: 0.0403 - accuracy: 0.9929 - val_loss: 1.5357 - val_accuracy: 0.8130\n",
            "Epoch 73/100\n",
            "174/174 [==============================] - 4s 25ms/step - loss: 0.0401 - accuracy: 0.9927 - val_loss: 1.4721 - val_accuracy: 0.8070\n",
            "Epoch 74/100\n",
            "174/174 [==============================] - 4s 25ms/step - loss: 0.0411 - accuracy: 0.9930 - val_loss: 1.5582 - val_accuracy: 0.8100\n",
            "Epoch 75/100\n",
            "174/174 [==============================] - 4s 25ms/step - loss: 0.0410 - accuracy: 0.9926 - val_loss: 1.4568 - val_accuracy: 0.8150\n",
            "Epoch 76/100\n",
            "174/174 [==============================] - 4s 25ms/step - loss: 0.0410 - accuracy: 0.9923 - val_loss: 1.3946 - val_accuracy: 0.8150\n",
            "Epoch 77/100\n",
            "174/174 [==============================] - 4s 25ms/step - loss: 0.0402 - accuracy: 0.9923 - val_loss: 1.3956 - val_accuracy: 0.8130\n",
            "Epoch 78/100\n",
            "174/174 [==============================] - 4s 25ms/step - loss: 0.0402 - accuracy: 0.9929 - val_loss: 1.2238 - val_accuracy: 0.8040\n",
            "Epoch 79/100\n",
            "174/174 [==============================] - 4s 25ms/step - loss: 0.0390 - accuracy: 0.9932 - val_loss: 1.4403 - val_accuracy: 0.8180\n",
            "Epoch 80/100\n",
            "174/174 [==============================] - 4s 25ms/step - loss: 0.0376 - accuracy: 0.9934 - val_loss: 1.5525 - val_accuracy: 0.8090\n",
            "Epoch 81/100\n",
            "174/174 [==============================] - 4s 25ms/step - loss: 0.0373 - accuracy: 0.9936 - val_loss: 1.7856 - val_accuracy: 0.8050\n",
            "Epoch 82/100\n",
            "174/174 [==============================] - 4s 26ms/step - loss: 0.0364 - accuracy: 0.9943 - val_loss: 1.4296 - val_accuracy: 0.8210\n",
            "Epoch 83/100\n",
            "174/174 [==============================] - 4s 26ms/step - loss: 0.0345 - accuracy: 0.9939 - val_loss: 1.6634 - val_accuracy: 0.8150\n",
            "Epoch 84/100\n",
            "174/174 [==============================] - 4s 25ms/step - loss: 0.0347 - accuracy: 0.9943 - val_loss: 1.5423 - val_accuracy: 0.8250\n",
            "Epoch 85/100\n",
            "174/174 [==============================] - 4s 25ms/step - loss: 0.0384 - accuracy: 0.9934 - val_loss: 1.4029 - val_accuracy: 0.8160\n",
            "Epoch 86/100\n",
            "174/174 [==============================] - 4s 25ms/step - loss: 0.0338 - accuracy: 0.9943 - val_loss: 1.6002 - val_accuracy: 0.8220\n",
            "Epoch 87/100\n",
            "174/174 [==============================] - 4s 25ms/step - loss: 0.0352 - accuracy: 0.9945 - val_loss: 1.6328 - val_accuracy: 0.8210\n",
            "Epoch 88/100\n",
            "174/174 [==============================] - 4s 25ms/step - loss: 0.0335 - accuracy: 0.9942 - val_loss: 1.5098 - val_accuracy: 0.8310\n",
            "Epoch 89/100\n",
            "174/174 [==============================] - 4s 25ms/step - loss: 0.0345 - accuracy: 0.9939 - val_loss: 1.4751 - val_accuracy: 0.8250\n",
            "Epoch 90/100\n",
            "174/174 [==============================] - 4s 25ms/step - loss: 0.0362 - accuracy: 0.9935 - val_loss: 1.6080 - val_accuracy: 0.8120\n",
            "Epoch 91/100\n",
            "174/174 [==============================] - 4s 25ms/step - loss: 0.0330 - accuracy: 0.9944 - val_loss: 1.5084 - val_accuracy: 0.8130\n",
            "Epoch 92/100\n",
            "174/174 [==============================] - 4s 25ms/step - loss: 0.0335 - accuracy: 0.9939 - val_loss: 1.6742 - val_accuracy: 0.8160\n",
            "Epoch 93/100\n",
            "174/174 [==============================] - 4s 25ms/step - loss: 0.0324 - accuracy: 0.9949 - val_loss: 1.4177 - val_accuracy: 0.8220\n",
            "Epoch 94/100\n",
            "174/174 [==============================] - 4s 25ms/step - loss: 0.0307 - accuracy: 0.9944 - val_loss: 1.4951 - val_accuracy: 0.8230\n",
            "Epoch 95/100\n",
            "174/174 [==============================] - 4s 25ms/step - loss: 0.0325 - accuracy: 0.9941 - val_loss: 1.5688 - val_accuracy: 0.8170\n",
            "Epoch 96/100\n",
            "174/174 [==============================] - 4s 25ms/step - loss: 0.0298 - accuracy: 0.9948 - val_loss: 1.6750 - val_accuracy: 0.8160\n",
            "Epoch 97/100\n",
            "174/174 [==============================] - 4s 25ms/step - loss: 0.0330 - accuracy: 0.9935 - val_loss: 1.5395 - val_accuracy: 0.8110\n",
            "Epoch 98/100\n",
            "174/174 [==============================] - 4s 25ms/step - loss: 0.0295 - accuracy: 0.9947 - val_loss: 1.6333 - val_accuracy: 0.8230\n",
            "Epoch 99/100\n",
            "174/174 [==============================] - 4s 25ms/step - loss: 0.0319 - accuracy: 0.9950 - val_loss: 1.4661 - val_accuracy: 0.8230\n",
            "Epoch 100/100\n",
            "174/174 [==============================] - 4s 25ms/step - loss: 0.0279 - accuracy: 0.9948 - val_loss: 1.8568 - val_accuracy: 0.8120\n"
          ],
          "name": "stdout"
        }
      ]
    },
    {
      "cell_type": "code",
      "metadata": {
        "id": "_9FansQtVGKS",
        "colab": {
          "base_uri": "https://localhost:8080/",
          "height": 312
        },
        "outputId": "0eea34f3-0a6b-467f-efba-3766a3a5f90f"
      },
      "source": [
        "#show loss and accuracy\n",
        "#get loss for training\n",
        "acc = np.asarray(history.history['accuracy'])\n",
        "#get loss for testing\n",
        "val_acc = np.asarray(history.history['val_accuracy'])\n",
        "# x axis will display epochs running from 1 to the number of losses we have  - 1\n",
        "epochs = np.asarray(range(len(acc)))\n",
        "pyplot.plot(epochs,acc,'r',label='Training accuracy')\n",
        "pyplot.plot(epochs,val_acc,'b',label='validation accuracy')\n",
        "pyplot.title('Training and accuracy')\n",
        "pyplot.xlabel('Epochs')\n",
        "pyplot.ylabel('Accuracy')\n",
        "pyplot.legend()\n",
        "print(max(val_acc))\n",
        "pyplot.show()\n"
      ],
      "execution_count": 85,
      "outputs": [
        {
          "output_type": "stream",
          "text": [
            "0.8420000076293945\n"
          ],
          "name": "stdout"
        },
        {
          "output_type": "display_data",
          "data": {
            "image/png": "[encoded data removed]",
            "text/plain": [
              "<Figure size 432x288 with 1 Axes>"
            ]
          },
          "metadata": {
            "tags": [],
            "needs_background": "light"
          }
        }
      ]
    },
    {
      "cell_type": "code",
      "metadata": {
        "id": "-U7u3whOv4oh",
        "colab": {
          "base_uri": "https://localhost:8080/"
        },
        "outputId": "f6725ef6-d909-4289-a9af-5a4babf2031a"
      },
      "source": [
        "#Test Image\n",
        "from keras.preprocessing import image\n",
        "name = 'cat.jpg'\n",
        "instance = image.load_img(name, target_size = (64,64))\n",
        "instance = image.img_to_array(instance)\n",
        "instance = np.array(resize_and_rescale(instance))\n",
        "\n",
        "#test on network\n",
        "answer = network.predict(np.asarray([instance]))\n",
        "if answer[0][0] >= 0.5:\n",
        "  print(\"We have classified it as a dog\")\n",
        "else:\n",
        "  print(\"We have classified it as a cat\")"
      ],
      "execution_count": 96,
      "outputs": [
        {
          "output_type": "stream",
          "text": [
            "We have classified it as a cat\n"
          ],
          "name": "stdout"
        }
      ]
    }
  ]
}